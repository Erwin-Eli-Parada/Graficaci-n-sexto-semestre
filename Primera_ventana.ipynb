{
  "nbformat": 4,
  "nbformat_minor": 0,
  "metadata": {
    "colab": {
      "name": "Primera ventana.ipynb",
      "provenance": [],
      "collapsed_sections": [],
      "authorship_tag": "ABX9TyPseMOoWBQyf5WYAuDNuSm1",
      "include_colab_link": true
    },
    "kernelspec": {
      "name": "python3",
      "display_name": "Python 3"
    }
  },
  "cells": [
    {
      "cell_type": "markdown",
      "metadata": {
        "id": "view-in-github",
        "colab_type": "text"
      },
      "source": [
        "<a href=\"https://colab.research.google.com/github/Erwin-Eli-Parada/Graficaci-n-sexto-semestre/blob/main/Primera_ventana.ipynb\" target=\"_parent\"><img src=\"https://colab.research.google.com/assets/colab-badge.svg\" alt=\"Open In Colab\"/></a>"
      ]
    },
    {
      "cell_type": "code",
      "metadata": {
        "id": "pZjWrEKo9EOC"
      },
      "source": [
        "import glfw\n",
        "from OpenGL.GL import *\n",
        "import numpy as np\n",
        "\n",
        "def main():\n",
        "\n",
        "    if not glfw.init():\n",
        "        return\n",
        "\n",
        "    window=glfw.create_window(640,480,\"Mi primera ventana\",None, None)\n",
        "\n",
        "    if not window:\n",
        "        glfw.terminate()\n",
        "        return\n",
        "\n",
        "    glfw.make_context_current(window)\n",
        "\n",
        "    #declarar cosas para la grafica\n",
        "    vertices = [-0.5, -0.5, 0.0,\n",
        "                0.5, -0.5, 0.0,\n",
        "                0.0, 0.5, 0.0]\n",
        "\n",
        "    colores= [1.0, 0.0, 0.0,\n",
        "              0.0, 1.0, 0.0,\n",
        "              0.0, 0.0, 1.0]\n",
        "\n",
        "    vertices = np.array(vertices, dtype=np.float32)\n",
        "    colores = np.array(colores, dtype=np.float32)\n",
        "\n",
        "    glEnableClientState(GL_VERTEX_ARRAY)\n",
        "    glVertexPointer(3, GL_FLOAT, 0, vertices)\n",
        "\n",
        "    glClearColor(0, 0.1, 0.1, 1)\n",
        "\n",
        "    while not glfw.window_should_close(window):\n",
        "        #dibujar\n",
        "\n",
        "        glClear(GL_COLOR_BUFFER_BIT)\n",
        "        glDrawArrays(GL_TRIANGLES, 0, 3)\n",
        "\n",
        "        #traer pantalla al frente\n",
        "        glfw.swap_buffers(window)\n",
        "\n",
        "        #verificar que finciona\n",
        "        glfw.poll_events()\n",
        "\n",
        "    glfw.terminate()\n",
        "\n",
        "main()"
      ],
      "execution_count": null,
      "outputs": []
    }
  ]
}