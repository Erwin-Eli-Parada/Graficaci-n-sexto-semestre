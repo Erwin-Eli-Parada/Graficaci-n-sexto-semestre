{
  "nbformat": 4,
  "nbformat_minor": 0,
  "metadata": {
    "colab": {
      "name": "OpenGL",
      "provenance": [],
      "collapsed_sections": [],
      "authorship_tag": "ABX9TyNv5cecNzj/EG3LnN2omTxi",
      "include_colab_link": true
    },
    "kernelspec": {
      "name": "python3",
      "display_name": "Python 3"
    },
    "language_info": {
      "name": "python"
    },
    "accelerator": "GPU"
  },
  "cells": [
    {
      "cell_type": "markdown",
      "metadata": {
        "id": "view-in-github",
        "colab_type": "text"
      },
      "source": [
        "<a href=\"https://colab.research.google.com/github/Erwin-Eli-Parada/Graficaci-n-sexto-semestre/blob/main/OpenGL.ipynb\" target=\"_parent\"><img src=\"https://colab.research.google.com/assets/colab-badge.svg\" alt=\"Open In Colab\"/></a>"
      ]
    },
    {
      "cell_type": "code",
      "metadata": {
        "id": "tXR23s-VfJEV",
        "colab": {
          "base_uri": "https://localhost:8080/"
        },
        "outputId": "42373d60-6a68-4a4d-81f6-1809636d616e"
      },
      "source": [
        "%tensorflow_version 1.x\n",
        "!pip install -q gast==0.2.2\n",
        "!pip install -q tensorflow>=2.0.0\n",
        "!pip install -q folium==0.2.1\n",
        "!pip install -q imgaug>=0.2.6\n",
        "!pip install -q lucid>=0.2.3\n",
        "!pip install -q moviepy"
      ],
      "execution_count": null,
      "outputs": [
        {
          "output_type": "stream",
          "text": [
            "TensorFlow 1.x selected.\n"
          ],
          "name": "stdout"
        }
      ]
    },
    {
      "cell_type": "code",
      "metadata": {
        "id": "sW_Lg2M5fU1V"
      },
      "source": [
        "import numpy as np\n",
        "import json\n",
        "import moviepy.editor as mvp\n",
        "from google.colab import files\n",
        "\n",
        "import lucid.misc.io.showing as show"
      ],
      "execution_count": null,
      "outputs": []
    },
    {
      "cell_type": "code",
      "metadata": {
        "id": "ea0qY8o3fVc3"
      },
      "source": [
        "import ctypes.util\n",
        "\n",
        "from lucid.misc.gl.glcontext import create_opengl_context\n",
        "\n",
        "import OpenGL.GL as gl\n",
        "\n",
        "import os\n",
        "os.environ[\"PYOPENGL_PLATFORM\"] = \"egl\"\n",
        "\n",
        "WIDTH, HEIGHT = 640, 480\n",
        "create_opengl_context((WIDTH, HEIGHT))"
      ],
      "execution_count": null,
      "outputs": []
    },
    {
      "cell_type": "code",
      "metadata": {
        "colab": {
          "base_uri": "https://localhost:8080/",
          "height": 501
        },
        "id": "VBk75LfHfiP7",
        "outputId": "1ca84f94-fcb9-4870-ab17-dc662c99e18e"
      },
      "source": [
        "gl.glClear(gl.GL_COLOR_BUFFER_BIT)\n",
        "gl.glBegin(gl.GL_TRIANGLES)\n",
        "gl.glColor3f(1.0, 0.0, 0.0)\n",
        "gl.glVertex2f(0,  1)\n",
        "gl.glColor3f(0.0, 1.0, 0.0)\n",
        "gl.glVertex2f(-1, -1)\n",
        "gl.glColor3f(0.0, 0.0, 1.0)\n",
        "gl.glVertex2f(1, -1)\n",
        "gl.glEnd()\n",
        "\n",
        "# Read the result\n",
        "img_buf = gl.glReadPixelsub(0, 0, WIDTH, HEIGHT, gl.GL_RGB, gl.GL_UNSIGNED_BYTE)\n",
        "img = np.frombuffer(img_buf, np.uint8).reshape(HEIGHT, WIDTH, 3)[::-1]\n",
        "show.image(img/1)"
      ],
      "execution_count": null,
      "outputs": [
        {
          "output_type": "display_data",
          "data": {
            "text/html": [
              "<img src=\"data:image/PNG;base64,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\" style=\"image-rendering: pixelated; image-rendering: crisp-edges;\">"
            ],
            "text/plain": [
              "<IPython.core.display.HTML object>"
            ]
          },
          "metadata": {
            "tags": []
          }
        }
      ]
    }
  ]
}