{
  "nbformat": 4,
  "nbformat_minor": 0,
  "metadata": {
    "colab": {
      "name": "Bresenham.ipynb",
      "provenance": [],
      "collapsed_sections": [
        "vWFC3fKOuYT0",
        "DjrsjZHBvzzR"
      ],
      "include_colab_link": true
    },
    "kernelspec": {
      "name": "python3",
      "display_name": "Python 3"
    },
    "language_info": {
      "name": "python"
    }
  },
  "cells": [
    {
      "cell_type": "markdown",
      "metadata": {
        "id": "view-in-github",
        "colab_type": "text"
      },
      "source": [
        "<a href=\"https://colab.research.google.com/github/Erwin-Eli-Parada/Graficaci-n-sexto-semestre/blob/main/Bresenham.ipynb\" target=\"_parent\"><img src=\"https://colab.research.google.com/assets/colab-badge.svg\" alt=\"Open In Colab\"/></a>"
      ]
    },
    {
      "cell_type": "code",
      "metadata": {
        "id": "7iY13Ty0pvc0"
      },
      "source": [
        "import numpy as np\n",
        "import matplotlib.pyplot as plt\n",
        "\n",
        "N = 50 #Número de filas y columnas de la matriz (cuadrada)\n",
        "matriz_linea = np.zeros((N,N))#creamos la matriz con ceros en todas las celdas\n",
        "matriz_circunferencia = np.zeros((N,N))#creamos la matriz con ceros en todas las celdas\n",
        "linea = [] #Lista en donde se insertarán las coordenadas de los pixeles a pintar con la siguiente forma [x,y] para la línea\n",
        "circunferencia = [] #Lista en donde se insertarán las coordenadas de los pixeles a pintar con la siguiente forma [x,y] para la circunferencia"
      ],
      "execution_count": null,
      "outputs": []
    },
    {
      "cell_type": "code",
      "metadata": {
        "id": "tzRuW3ncqwIf"
      },
      "source": [
        "def imprimir_linea():\n",
        "  for c in linea:\n",
        "    matriz_linea[c[0],c[1]] = 1\n",
        "\n",
        "  plt.imshow(matriz_linea)\n",
        "  plt.colorbar()\n",
        "  plt.show()\n",
        "\n",
        "def imprimir_circunferencia():\n",
        "  for c in circunferencia:\n",
        "    matriz_circunferencia[c[0],c[1]] = 1\n",
        "\n",
        "  plt.imshow(matriz_circunferencia)\n",
        "  plt.colorbar()\n",
        "  plt.show()\n"
      ],
      "execution_count": null,
      "outputs": []
    },
    {
      "cell_type": "markdown",
      "metadata": {
        "id": "vWFC3fKOuYT0"
      },
      "source": [
        "#Ejercicio 1\n",
        "Dadas dos coordenadas ingresadas por el usuario (punto inicial y punto final) escribir el código que implemente el algortimo de Bresenham para líneas y encontrar los pixeles que forman parte de la línea que une estos puntos. Al final graficar el resultado. "
      ]
    },
    {
      "cell_type": "code",
      "metadata": {
        "colab": {
          "base_uri": "https://localhost:8080/",
          "height": 565
        },
        "id": "IR0W7cFdqpH1",
        "outputId": "52428612-a205-4fdc-e80f-706e6320e6e3"
      },
      "source": [
        "#En esta celda deben escribir su código para ir llenando el array linea, al final se debellamar a la función imprimir para ver el resultado en la pantalla.\n",
        "\n",
        "xinicial =int (input(\"x incial\"))\n",
        "yinicial =int (input(\"y incial\"))\n",
        "xfinal =int (input(\"x final\"))\n",
        "yfinal =int (input(\"y final\"))\n",
        "\n",
        "dx = abs(xfinal-xinicial)\n",
        "dy = abs(yfinal-yinicial)\n",
        "xi=xinicial \n",
        "yi=yinicial \n",
        "\n",
        "if dx > dy:#inciamos preguntando si la diferencia en x es mayor que en Y\n",
        "  p=(2*dy)-dx\n",
        "  linea.append([xi,yi])\n",
        "#debido a que hay varios casos en que el usuarios puede introducir los puntos hago una condición para cada combinación\n",
        "  if xfinal>xinicial and yfinal>yinicial: #si el punto final es mayor en X y en Y que el inicial, este caso se espera que sea el más común\n",
        "    for i in range (1,dx+1):\n",
        "      if p<0:\n",
        "        xi = xi+1\n",
        "        linea.append([xi,yi])\n",
        "        p=p+(2*dy)\n",
        "      else:\n",
        "        xi = xi+1\n",
        "        yi = yi+1\n",
        "        linea.append([xi,yi])\n",
        "        p=p+(2*dy)-(2*dx)\n",
        "  elif xfinal>xinicial and yfinal<yinicial: #si el punto final es mayor en X pero menor en Y que el inicial\n",
        "    for i in range (1,dx+1):\n",
        "      if p<0:\n",
        "        xi = xi+1\n",
        "        linea.append([xi,yi])\n",
        "        p=p+(2*dy)\n",
        "      else:\n",
        "        xi = xi+1\n",
        "        yi = yi-1\n",
        "        linea.append([xi,yi])\n",
        "        p=p+(2*dy)-(2*dx)\n",
        "  elif xfinal<xinicial and yfinal>yinicial:#si el punto final es menor en X pero mayor en Y que el inicial\n",
        "    for i in range (1,dx+1):\n",
        "      if p<0:\n",
        "        xi = xi-1\n",
        "        linea.append([xi,yi])\n",
        "        p=p+(2*dy)\n",
        "      else:\n",
        "        xi = xi-1\n",
        "        yi = yi+1\n",
        "        linea.append([xi,yi])\n",
        "        p=p+(2*dy)-(2*dx)        \n",
        "  else:#si el punto final es menor en X y menor en Y que el inicial\n",
        "    for i in range (1,dx+1):\n",
        "      if p<0:\n",
        "        xi = xi-1\n",
        "        linea.append([xi,yi])\n",
        "        p=p+(2*dy)\n",
        "      else:\n",
        "        xi = xi-1\n",
        "        yi = yi-1\n",
        "        linea.append([xi,yi])\n",
        "        p=p+(2*dy)-(2*dx)\n",
        "else: #Este bloque es representa cuando la diferencia en Y sea mayor que en X\n",
        "  p=(2*dx)-dy\n",
        "  linea.append([xi,yi])\n",
        "  if xfinal>xinicial and yfinal>yinicial:#si el punto final es mayor en X y en Y que el inicial, este caso se espera que sea el más común\n",
        "    for i in range (1,dy+1):\n",
        "      if p<0:\n",
        "        yi = yi+1\n",
        "        linea.append([xi,yi])\n",
        "        p=p+(2*dx)\n",
        "      else:\n",
        "        xi = xi+1\n",
        "        yi = yi+1\n",
        "        linea.append([xi,yi])\n",
        "        p=p+(2*dx)-(2*dy)\n",
        "  elif xfinal>xinicial and yfinal<yinicial: #si el punto final es mayor en X pero menor en Y que el inicial\n",
        "    for i in range (1,dy+1):\n",
        "      if p<0:\n",
        "        yi = yi-1\n",
        "        linea.append([xi,yi])\n",
        "        p=p+(2*dx)\n",
        "      else:\n",
        "        xi = xi+1\n",
        "        yi = yi-1\n",
        "        linea.append([xi,yi])\n",
        "        p=p+(2*dx)-(2*dy)\n",
        "  elif xfinal<xinicial and yfinal>yinicial:#si el punto final es menor en X pero mayor en Y que el inicial\n",
        "    for i in range (1,dy+1):\n",
        "      if p<0:\n",
        "        yi = yi+1\n",
        "        linea.append([xi,yi])\n",
        "        p=p+(2*dx)\n",
        "      else:\n",
        "        xi = xi-1\n",
        "        yi = yi+1\n",
        "        linea.append([xi,yi])\n",
        "        p=p+(2*dx)-(2*dy)        \n",
        "  else:#si el punto final es menor en X y menor en Y que el inicial\n",
        "    for i in range (1,dy+1):\n",
        "      if p<0:\n",
        "        yi = yi-1\n",
        "        linea.append([xi,yi])\n",
        "        p=p+(2*dx)\n",
        "      else:\n",
        "        xi = xi-1\n",
        "        yi = yi-1\n",
        "        linea.append([xi,yi])\n",
        "        p=p+(2*dx)-(2*dy)\n",
        "\n",
        "print (linea)\n",
        "\n",
        "imprimir_linea()#Este es el llamado a la función que se encarga de plotear la matriz"
      ],
      "execution_count": 1,
      "outputs": [
        {
          "output_type": "error",
          "ename": "KeyboardInterrupt",
          "evalue": "ignored",
          "traceback": [
            "\u001b[0;31m---------------------------------------------------------------------------\u001b[0m",
            "\u001b[0;31mKeyboardInterrupt\u001b[0m                         Traceback (most recent call last)",
            "\u001b[0;32m/usr/local/lib/python3.7/dist-packages/ipykernel/kernelbase.py\u001b[0m in \u001b[0;36m_input_request\u001b[0;34m(self, prompt, ident, parent, password)\u001b[0m\n\u001b[1;32m    728\u001b[0m             \u001b[0;32mtry\u001b[0m\u001b[0;34m:\u001b[0m\u001b[0;34m\u001b[0m\u001b[0;34m\u001b[0m\u001b[0m\n\u001b[0;32m--> 729\u001b[0;31m                 \u001b[0mident\u001b[0m\u001b[0;34m,\u001b[0m \u001b[0mreply\u001b[0m \u001b[0;34m=\u001b[0m \u001b[0mself\u001b[0m\u001b[0;34m.\u001b[0m\u001b[0msession\u001b[0m\u001b[0;34m.\u001b[0m\u001b[0mrecv\u001b[0m\u001b[0;34m(\u001b[0m\u001b[0mself\u001b[0m\u001b[0;34m.\u001b[0m\u001b[0mstdin_socket\u001b[0m\u001b[0;34m,\u001b[0m \u001b[0;36m0\u001b[0m\u001b[0;34m)\u001b[0m\u001b[0;34m\u001b[0m\u001b[0;34m\u001b[0m\u001b[0m\n\u001b[0m\u001b[1;32m    730\u001b[0m             \u001b[0;32mexcept\u001b[0m \u001b[0mException\u001b[0m\u001b[0;34m:\u001b[0m\u001b[0;34m\u001b[0m\u001b[0;34m\u001b[0m\u001b[0m\n",
            "\u001b[0;32m/usr/local/lib/python3.7/dist-packages/jupyter_client/session.py\u001b[0m in \u001b[0;36mrecv\u001b[0;34m(self, socket, mode, content, copy)\u001b[0m\n\u001b[1;32m    802\u001b[0m         \u001b[0;32mtry\u001b[0m\u001b[0;34m:\u001b[0m\u001b[0;34m\u001b[0m\u001b[0;34m\u001b[0m\u001b[0m\n\u001b[0;32m--> 803\u001b[0;31m             \u001b[0mmsg_list\u001b[0m \u001b[0;34m=\u001b[0m \u001b[0msocket\u001b[0m\u001b[0;34m.\u001b[0m\u001b[0mrecv_multipart\u001b[0m\u001b[0;34m(\u001b[0m\u001b[0mmode\u001b[0m\u001b[0;34m,\u001b[0m \u001b[0mcopy\u001b[0m\u001b[0;34m=\u001b[0m\u001b[0mcopy\u001b[0m\u001b[0;34m)\u001b[0m\u001b[0;34m\u001b[0m\u001b[0;34m\u001b[0m\u001b[0m\n\u001b[0m\u001b[1;32m    804\u001b[0m         \u001b[0;32mexcept\u001b[0m \u001b[0mzmq\u001b[0m\u001b[0;34m.\u001b[0m\u001b[0mZMQError\u001b[0m \u001b[0;32mas\u001b[0m \u001b[0me\u001b[0m\u001b[0;34m:\u001b[0m\u001b[0;34m\u001b[0m\u001b[0;34m\u001b[0m\u001b[0m\n",
            "\u001b[0;32m/usr/local/lib/python3.7/dist-packages/zmq/sugar/socket.py\u001b[0m in \u001b[0;36mrecv_multipart\u001b[0;34m(self, flags, copy, track)\u001b[0m\n\u001b[1;32m    624\u001b[0m         \"\"\"\n\u001b[0;32m--> 625\u001b[0;31m         \u001b[0mparts\u001b[0m \u001b[0;34m=\u001b[0m \u001b[0;34m[\u001b[0m\u001b[0mself\u001b[0m\u001b[0;34m.\u001b[0m\u001b[0mrecv\u001b[0m\u001b[0;34m(\u001b[0m\u001b[0mflags\u001b[0m\u001b[0;34m,\u001b[0m \u001b[0mcopy\u001b[0m\u001b[0;34m=\u001b[0m\u001b[0mcopy\u001b[0m\u001b[0;34m,\u001b[0m \u001b[0mtrack\u001b[0m\u001b[0;34m=\u001b[0m\u001b[0mtrack\u001b[0m\u001b[0;34m)\u001b[0m\u001b[0;34m]\u001b[0m\u001b[0;34m\u001b[0m\u001b[0;34m\u001b[0m\u001b[0m\n\u001b[0m\u001b[1;32m    626\u001b[0m         \u001b[0;31m# have first part already, only loop while more to receive\u001b[0m\u001b[0;34m\u001b[0m\u001b[0;34m\u001b[0m\u001b[0;34m\u001b[0m\u001b[0m\n",
            "\u001b[0;32mzmq/backend/cython/socket.pyx\u001b[0m in \u001b[0;36mzmq.backend.cython.socket.Socket.recv\u001b[0;34m()\u001b[0m\n",
            "\u001b[0;32mzmq/backend/cython/socket.pyx\u001b[0m in \u001b[0;36mzmq.backend.cython.socket.Socket.recv\u001b[0;34m()\u001b[0m\n",
            "\u001b[0;32mzmq/backend/cython/socket.pyx\u001b[0m in \u001b[0;36mzmq.backend.cython.socket._recv_copy\u001b[0;34m()\u001b[0m\n",
            "\u001b[0;32m/usr/local/lib/python3.7/dist-packages/zmq/backend/cython/checkrc.pxd\u001b[0m in \u001b[0;36mzmq.backend.cython.checkrc._check_rc\u001b[0;34m()\u001b[0m\n",
            "\u001b[0;31mKeyboardInterrupt\u001b[0m: ",
            "\nDuring handling of the above exception, another exception occurred:\n",
            "\u001b[0;31mKeyboardInterrupt\u001b[0m                         Traceback (most recent call last)",
            "\u001b[0;32m<ipython-input-1-e54ab273c13d>\u001b[0m in \u001b[0;36m<module>\u001b[0;34m()\u001b[0m\n\u001b[1;32m      1\u001b[0m \u001b[0;31m#En esta celda deben escribir su código para ir llenando el array linea, al final se debellamar a la función imprimir para ver el resultado en la pantalla.\u001b[0m\u001b[0;34m\u001b[0m\u001b[0;34m\u001b[0m\u001b[0;34m\u001b[0m\u001b[0m\n\u001b[1;32m      2\u001b[0m \u001b[0;34m\u001b[0m\u001b[0m\n\u001b[0;32m----> 3\u001b[0;31m \u001b[0mxinicial\u001b[0m \u001b[0;34m=\u001b[0m\u001b[0mint\u001b[0m \u001b[0;34m(\u001b[0m\u001b[0minput\u001b[0m\u001b[0;34m(\u001b[0m\u001b[0;34m\"x incial\"\u001b[0m\u001b[0;34m)\u001b[0m\u001b[0;34m)\u001b[0m\u001b[0;34m\u001b[0m\u001b[0;34m\u001b[0m\u001b[0m\n\u001b[0m\u001b[1;32m      4\u001b[0m \u001b[0myinicial\u001b[0m \u001b[0;34m=\u001b[0m\u001b[0mint\u001b[0m \u001b[0;34m(\u001b[0m\u001b[0minput\u001b[0m\u001b[0;34m(\u001b[0m\u001b[0;34m\"y incial\"\u001b[0m\u001b[0;34m)\u001b[0m\u001b[0;34m)\u001b[0m\u001b[0;34m\u001b[0m\u001b[0;34m\u001b[0m\u001b[0m\n\u001b[1;32m      5\u001b[0m \u001b[0mxfinal\u001b[0m \u001b[0;34m=\u001b[0m\u001b[0mint\u001b[0m \u001b[0;34m(\u001b[0m\u001b[0minput\u001b[0m\u001b[0;34m(\u001b[0m\u001b[0;34m\"x final\"\u001b[0m\u001b[0;34m)\u001b[0m\u001b[0;34m)\u001b[0m\u001b[0;34m\u001b[0m\u001b[0;34m\u001b[0m\u001b[0m\n",
            "\u001b[0;32m/usr/local/lib/python3.7/dist-packages/ipykernel/kernelbase.py\u001b[0m in \u001b[0;36mraw_input\u001b[0;34m(self, prompt)\u001b[0m\n\u001b[1;32m    702\u001b[0m             \u001b[0mself\u001b[0m\u001b[0;34m.\u001b[0m\u001b[0m_parent_ident\u001b[0m\u001b[0;34m,\u001b[0m\u001b[0;34m\u001b[0m\u001b[0;34m\u001b[0m\u001b[0m\n\u001b[1;32m    703\u001b[0m             \u001b[0mself\u001b[0m\u001b[0;34m.\u001b[0m\u001b[0m_parent_header\u001b[0m\u001b[0;34m,\u001b[0m\u001b[0;34m\u001b[0m\u001b[0;34m\u001b[0m\u001b[0m\n\u001b[0;32m--> 704\u001b[0;31m             \u001b[0mpassword\u001b[0m\u001b[0;34m=\u001b[0m\u001b[0;32mFalse\u001b[0m\u001b[0;34m,\u001b[0m\u001b[0;34m\u001b[0m\u001b[0;34m\u001b[0m\u001b[0m\n\u001b[0m\u001b[1;32m    705\u001b[0m         )\n\u001b[1;32m    706\u001b[0m \u001b[0;34m\u001b[0m\u001b[0m\n",
            "\u001b[0;32m/usr/local/lib/python3.7/dist-packages/ipykernel/kernelbase.py\u001b[0m in \u001b[0;36m_input_request\u001b[0;34m(self, prompt, ident, parent, password)\u001b[0m\n\u001b[1;32m    732\u001b[0m             \u001b[0;32mexcept\u001b[0m \u001b[0mKeyboardInterrupt\u001b[0m\u001b[0;34m:\u001b[0m\u001b[0;34m\u001b[0m\u001b[0;34m\u001b[0m\u001b[0m\n\u001b[1;32m    733\u001b[0m                 \u001b[0;31m# re-raise KeyboardInterrupt, to truncate traceback\u001b[0m\u001b[0;34m\u001b[0m\u001b[0;34m\u001b[0m\u001b[0;34m\u001b[0m\u001b[0m\n\u001b[0;32m--> 734\u001b[0;31m                 \u001b[0;32mraise\u001b[0m \u001b[0mKeyboardInterrupt\u001b[0m\u001b[0;34m\u001b[0m\u001b[0;34m\u001b[0m\u001b[0m\n\u001b[0m\u001b[1;32m    735\u001b[0m             \u001b[0;32melse\u001b[0m\u001b[0;34m:\u001b[0m\u001b[0;34m\u001b[0m\u001b[0;34m\u001b[0m\u001b[0m\n\u001b[1;32m    736\u001b[0m                 \u001b[0;32mbreak\u001b[0m\u001b[0;34m\u001b[0m\u001b[0;34m\u001b[0m\u001b[0m\n",
            "\u001b[0;31mKeyboardInterrupt\u001b[0m: "
          ]
        }
      ]
    },
    {
      "cell_type": "markdown",
      "metadata": {
        "id": "DjrsjZHBvzzR"
      },
      "source": [
        "#Ejercicio 2\n",
        "Dado un radio ingresado por el usuraio escribir el código que implemente el algortimo de Bresenham para circunferencias y encontrar los pixeles que forman parte de esta circunferencia centrada en el origen. Al final graficar el resultado. "
      ]
    },
    {
      "cell_type": "code",
      "metadata": {
        "colab": {
          "base_uri": "https://localhost:8080/",
          "height": 323
        },
        "id": "cifnG6wKwITG",
        "outputId": "95f86b19-f98f-4971-9be3-6f64731f6c78"
      },
      "source": [
        "#En esta celda deben escribir su código para ir llenando el array circunferencia, al final se debe llamar a la función imprimir_circunferencia para ver el resultado en la pantalla.\n",
        "\n",
        "#definición de variables\n",
        "xc=15  #estas variable las pongo en cero debido a que se pide que sea con centro en origen pero estaba pensado originalmente para \n",
        "yc=15  #pedir también el centro al usuario \n",
        "r=int (input(\"radio\"))\n",
        "p=(5/4)-r\n",
        "xi=xc\n",
        "yi=yc+r\n",
        "a=np.zeros(((r-2)*8,2))\n",
        "i=0\n",
        "#calcular los pixeles del primer octante\n",
        "while (xi-xc) <= (yi-yc) :\n",
        "  if p<0 :\n",
        "    a[i][0]=xi\n",
        "    a[i][1]=yi\n",
        "    circunferencia.append([xi,yi])\n",
        "    p=p+(2*xi)+3\n",
        "    xi = xi+1   \n",
        "  else:\n",
        "    a[i][0]=xi\n",
        "    a[i][1]=yi\n",
        "    circunferencia.append([xi,yi])\n",
        "    p=p+(2*xi)-(2*yi)+5\n",
        "    xi = xi+1\n",
        "    yi = yi-1    \n",
        "  i = i+1\n",
        "\n",
        "#replicarlo en el octante adyacente\n",
        "i2=0\n",
        "while i < (r-2)*2:\n",
        "  a[i][0]=int(a[i2][1])\n",
        "  a[i][1]=int(a[i2][0])\n",
        "  circunferencia.append([int(a[i][0]),int(a[i][1])])\n",
        "  i=i+1\n",
        "  i2=i2+1\n",
        "\n",
        "#Este codigo es para los demas cuadrantes\n",
        "i2=0\n",
        "while i < (r-2)*4:\n",
        "  a[i][0]=int(xc-(a[i2][0]-xc))\n",
        "  a[i][1]=int(a[i2][1])\n",
        "  circunferencia.append([int(a[i][0]),int(a[i][1])])\n",
        "  i=i+1\n",
        "  i2=i2+1\n",
        "\n",
        "i2=0\n",
        "while i < (r-2)*8:\n",
        "  a[i][0]=int(a[i2][0])\n",
        "  a[i][1]=int(yc-(a[i2][1]-yc))\n",
        "  circunferencia.append([int(a[i][0]),int(a[i][1])])\n",
        "  i=i+1\n",
        "  i2=i2+1\n",
        "\n",
        "print(circunferencia)\n",
        "\n",
        "imprimir_circunferencia()#Este es el llamado a la función que se encarga de plotear la matriz"
      ],
      "execution_count": null,
      "outputs": [
        {
          "output_type": "stream",
          "text": [
            "radio10\n",
            "[[15, 25], [16, 25], [17, 24], [18, 23], [19, 22], [20, 22], [21, 21], [25, 15], [25, 16], [24, 17], [23, 18], [22, 19], [22, 20], [21, 21], [15, 25], [16, 25], [15, 25], [14, 25], [13, 24], [12, 23], [11, 22], [10, 22], [9, 21], [5, 15], [5, 16], [6, 17], [7, 18], [8, 19], [8, 20], [9, 21], [15, 25], [14, 25], [15, 5], [16, 5], [17, 6], [18, 7], [19, 8], [20, 8], [21, 9], [25, 15], [25, 14], [24, 13], [23, 12], [22, 11], [22, 10], [21, 9], [15, 5], [16, 5], [15, 5], [14, 5], [13, 6], [12, 7], [11, 8], [10, 8], [9, 9], [5, 15], [5, 14], [6, 13], [7, 12], [8, 11], [8, 10], [9, 9], [15, 5], [14, 5]]\n"
          ],
          "name": "stdout"
        },
        {
          "output_type": "display_data",
          "data": {
            "image/png": "[encoded data removed]",
            "text/plain": [
              "<Figure size 432x288 with 2 Axes>"
            ]
          },
          "metadata": {
            "tags": [],
            "needs_background": "light"
          }
        }
      ]
    }
  ]
}