{
  "nbformat": 4,
  "nbformat_minor": 0,
  "metadata": {
    "colab": {
      "name": "Fractales.ipynb",
      "provenance": [],
      "collapsed_sections": [],
      "include_colab_link": true
    },
    "kernelspec": {
      "name": "python3",
      "display_name": "Python 3"
    },
    "language_info": {
      "name": "python"
    }
  },
  "cells": [
    {
      "cell_type": "markdown",
      "metadata": {
        "id": "view-in-github",
        "colab_type": "text"
      },
      "source": [
        "<a href=\"https://colab.research.google.com/github/Erwin-Eli-Parada/Graficaci-n-sexto-semestre/blob/main/Fractales.ipynb\" target=\"_parent\"><img src=\"https://colab.research.google.com/assets/colab-badge.svg\" alt=\"Open In Colab\"/></a>"
      ]
    },
    {
      "cell_type": "markdown",
      "metadata": {
        "id": "fICCBnUFf3BV"
      },
      "source": [
        "Un fractal propuesto por el matemático polaco Sierpinski en 1915 tiene una  dimensión es log (3) / log (2) = 1.585.\n",
        "\n",
        "La siguiente es una forma iterativa de dibujar este fractal:\n",
        "\n",
        "Elija tres puntos no colineales A, B, C en el plano como los 3 vértices del triángulo y luego elija otro punto aleatorio como el punto actual.\n",
        "1. Calcula el punto medio O entre el punto actual y un vértice aleatorio.\n",
        "2. Dibuje el punto medio O y use este punto como el nuevo punto actual. \n",
        "3. Repita el paso 1.\n",
        "\n",
        "Escriba la función que implemente el algoritmo anterior de manera recursiva, dado un número de repeticiones N ingresado por el usuario."
      ]
    },
    {
      "cell_type": "code",
      "metadata": {
        "id": "Wl9zWFOLf12b"
      },
      "source": [
        "import numpy as np\n",
        "import matplotlib.pyplot as plt\n",
        "import random\n",
        "x = [] #Array para almacenar los valores en x de los elementos calculados\n",
        "y = [] #Array para almacenar los valores en y de los elementos calculados\n",
        "\n",
        "def imprimir():#Función de impresión del resultado\n",
        "  plt.plot(x, y, '.', color='red');\n",
        "  "
      ],
      "execution_count": null,
      "outputs": []
    },
    {
      "cell_type": "code",
      "metadata": {
        "colab": {
          "base_uri": "https://localhost:8080/",
          "height": 424
        },
        "id": "EDiHjyUEuJ5f",
        "outputId": "4737a48b-8a72-42e2-91b1-353fe1e045cf"
      },
      "source": [
        "#entrada de los datos\n",
        "x1=int(input(\"introduzca x1 \"))\n",
        "y1=int(input(\"introduzca y1 \"))\n",
        "x2=int(input(\"introduzca x2 \"))\n",
        "y2=int(input(\"introduzca y2 \"))\n",
        "x3=0\n",
        "y3=0\n",
        "banner=False\n",
        "while banner==False : #Este while es para checar que los tres puntos no sean colineales\n",
        "  x3=int(input(\"introduzca x3 \"))\n",
        "  y3=int(input(\"introduzca y3 \"))\n",
        "  if (x1!=x2 or x1!=x3) and (y1!=y2 or y1!=y3) :\n",
        "    banner=True\n",
        "  else:\n",
        "    print(\"introduzca los datos de nuevo\")\n",
        "xactual=int(input(\"introduzca x del punto actual \"))\n",
        "yactual=int(input(\"introduzca y del punto actual \"))\n",
        "n=int(input(\"numero de repeticiones \"))\n",
        "\n",
        "#Metodo de el cual aplicara recurvisividad\n",
        "def puntom(xa,ya,m):\n",
        "  if m<=0:\n",
        "    return\n",
        "  aleatorio=random.randint(0,2)\n",
        "  if aleatorio==0 :\n",
        "      xp=x1\n",
        "      yp=y1\n",
        "      #print(\"se tomo a 1\")\n",
        "  elif aleatorio==1 :\n",
        "      xp=x2\n",
        "      yp=y2\n",
        "      #print(\"se tomo a 2\")\n",
        "  else:\n",
        "      xp=x3\n",
        "      yp=y3\n",
        "      #print(\"se tomo a 3\")\n",
        "  xO=((xp+xa)/2)\n",
        "  yO=((yp+ya)/2)\n",
        "  x.append(xO)\n",
        "  y.append(yO)\n",
        "  puntom(xO,yO,m=m-1)\n",
        "\n",
        "#llamada del metodo recursivo\n",
        "puntom(xactual,yactual,n)\n",
        "#AL finalizar el cálculo llamar a la función imprimir\n",
        "imprimir()"
      ],
      "execution_count": null,
      "outputs": [
        {
          "output_type": "stream",
          "text": [
            "introduzca x1 0\n",
            "introduzca y1 0\n",
            "introduzca x2 10\n",
            "introduzca y2 0\n",
            "introduzca x3 5\n",
            "introduzca y3 5\n",
            "introduzca x del punto actual 3\n",
            "introduzca y del punto actual 3\n",
            "numero de repeticiones 800\n"
          ],
          "name": "stdout"
        },
        {
          "output_type": "display_data",
          "data": {
            "image/png": "[encoded data removed]",
            "text/plain": [
              "<Figure size 432x288 with 1 Axes>"
            ]
          },
          "metadata": {
            "tags": [],
            "needs_background": "light"
          }
        }
      ]
    }
  ]
}