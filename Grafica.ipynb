{
  "nbformat": 4,
  "nbformat_minor": 0,
  "metadata": {
    "colab": {
      "name": "Grafica",
      "provenance": [],
      "collapsed_sections": [
        "X7mkHaa43ksb",
        "GAKYSMLU3Z7Y"
      ],
      "mount_file_id": "1-_U_70KyYqYPGSFWnhz__mr6O5KjgnPO",
      "authorship_tag": "ABX9TyMRUIEhhzSsNUZxNgG5siBL",
      "include_colab_link": true
    },
    "kernelspec": {
      "name": "python3",
      "display_name": "Python 3"
    },
    "language_info": {
      "name": "python"
    }
  },
  "cells": [
    {
      "cell_type": "markdown",
      "metadata": {
        "id": "view-in-github",
        "colab_type": "text"
      },
      "source": [
        "<a href=\"https://colab.research.google.com/github/Erwin-Eli-Parada/Graficaci-n-sexto-semestre/blob/main/Grafica.ipynb\" target=\"_parent\"><img src=\"https://colab.research.google.com/assets/colab-badge.svg\" alt=\"Open In Colab\"/></a>"
      ]
    },
    {
      "cell_type": "markdown",
      "metadata": {
        "id": "-QtJG1dMvJNg"
      },
      "source": [
        "Constuctor"
      ]
    },
    {
      "cell_type": "code",
      "metadata": {
        "id": "2BMX6QFrvTVU"
      },
      "source": [
        "import numpy as np\n",
        "import matplotlib.pyplot as plt\n",
        "import math"
      ],
      "execution_count": null,
      "outputs": []
    },
    {
      "cell_type": "markdown",
      "metadata": {
        "id": "SofmvS3KxzXF"
      },
      "source": [
        "Función de impresión"
      ]
    },
    {
      "cell_type": "code",
      "metadata": {
        "id": "LUdCtmWqx1z_"
      },
      "source": [
        "def imprimir(lista):\n",
        "  N = 50 #Número de filas y columnas de la matriz (cuadrada)\n",
        "  matriz= np.zeros((N,N))#creamos la matriz con ceros en todas las celdas\n",
        "  for c in lista:\n",
        "    matriz[c[0],c[1]] = 1\n",
        "\n",
        "  plt.imshow(matriz)\n",
        "  plt.colorbar()\n",
        "  plt.show()"
      ],
      "execution_count": null,
      "outputs": []
    },
    {
      "cell_type": "markdown",
      "metadata": {
        "id": "X7mkHaa43ksb"
      },
      "source": [
        "# Función de linea"
      ]
    },
    {
      "cell_type": "code",
      "metadata": {
        "id": "QKEf_Bcuy50f"
      },
      "source": [
        "def calc_linea(xinicial,yinicial,xfinal,yfinal,linea):\n",
        "  dx = abs(xfinal-xinicial)\n",
        "  dy = abs(yfinal-yinicial)\n",
        "  xi=xinicial \n",
        "  yi=yinicial \n",
        "\n",
        "  if dx > dy:#inciamos preguntando si la diferencia en x es mayor que en Y\n",
        "    p=(2*dy)-dx\n",
        "    linea.append([xi,yi])\n",
        "  #debido a que hay varios casos en que el usuarios puede introducir los puntos hago una condición para cada combinación\n",
        "    if xfinal>=xinicial and yfinal>=yinicial: #si el punto final es mayor en X y en Y que el inicial, este caso se espera que sea el más común\n",
        "      for i in range (1,dx+1):\n",
        "        if p<0:\n",
        "          xi = xi+1\n",
        "          linea.append([xi,yi])\n",
        "          p=p+(2*dy)\n",
        "        else:\n",
        "          xi = xi+1\n",
        "          yi = yi+1\n",
        "          linea.append([xi,yi])\n",
        "          p=p+(2*dy)-(2*dx)\n",
        "    elif xfinal>=xinicial and yfinal<=yinicial: #si el punto final es mayor en X pero menor en Y que el inicial\n",
        "      for i in range (1,dx+1):\n",
        "        if p<0:\n",
        "          xi = xi+1\n",
        "          linea.append([xi,yi])\n",
        "          p=p+(2*dy)\n",
        "        else:\n",
        "          xi = xi+1\n",
        "          yi = yi-1\n",
        "          linea.append([xi,yi])\n",
        "          p=p+(2*dy)-(2*dx)\n",
        "    elif xfinal<=xinicial and yfinal>=yinicial:#si el punto final es menor en X pero mayor en Y que el inicial\n",
        "      for i in range (1,dx+1):\n",
        "        if p<0:\n",
        "          xi = xi-1\n",
        "          linea.append([xi,yi])\n",
        "          p=p+(2*dy)\n",
        "        else:\n",
        "          xi = xi-1\n",
        "          yi = yi+1\n",
        "          linea.append([xi,yi])\n",
        "          p=p+(2*dy)-(2*dx)        \n",
        "    else:#si el punto final es menor en X y menor en Y que el inicial\n",
        "      for i in range (1,dx+1):\n",
        "        if p<0:\n",
        "          xi = xi-1\n",
        "          linea.append([xi,yi])\n",
        "          p=p+(2*dy)\n",
        "        else:\n",
        "          xi = xi-1\n",
        "          yi = yi-1\n",
        "          linea.append([xi,yi])\n",
        "          p=p+(2*dy)-(2*dx)\n",
        "  else: #Este bloque es representa cuando la diferencia en Y sea mayor que en X\n",
        "    p=(2*dx)-dy\n",
        "    linea.append([xi,yi])\n",
        "    if xfinal>=xinicial and yfinal>=yinicial:#si el punto final es mayor en X y en Y que el inicial, este caso se espera que sea el más común\n",
        "      for i in range (1,dy+1):\n",
        "        if p<0:\n",
        "          yi = yi+1\n",
        "          linea.append([xi,yi])\n",
        "          p=p+(2*dx)\n",
        "        else:\n",
        "          xi = xi+1\n",
        "          yi = yi+1\n",
        "          linea.append([xi,yi])\n",
        "          p=p+(2*dx)-(2*dy)\n",
        "    elif xfinal>=xinicial and yfinal<=yinicial: #si el punto final es mayor en X pero menor en Y que el inicial\n",
        "      for i in range (1,dy+1):\n",
        "        if p<0:\n",
        "          yi = yi-1\n",
        "          linea.append([xi,yi])\n",
        "          p=p+(2*dx)\n",
        "        else:\n",
        "          xi = xi+1\n",
        "          yi = yi-1\n",
        "          linea.append([xi,yi])\n",
        "          p=p+(2*dx)-(2*dy)\n",
        "    elif xfinal<=xinicial and yfinal>=yinicial:#si el punto final es menor en X pero mayor en Y que el inicial\n",
        "      for i in range (1,dy+1):\n",
        "        if p<0:\n",
        "          yi = yi+1\n",
        "          linea.append([xi,yi])\n",
        "          p=p+(2*dx)\n",
        "        else:\n",
        "          xi = xi-1\n",
        "          yi = yi+1\n",
        "          linea.append([xi,yi])\n",
        "          p=p+(2*dx)-(2*dy)        \n",
        "    else:#si el punto final es menor en X y menor en Y que el inicial\n",
        "      for i in range (1,dy+1):\n",
        "        if p<0:\n",
        "          yi = yi-1\n",
        "          linea.append([xi,yi])\n",
        "          p=p+(2*dx)\n",
        "        else:\n",
        "          xi = xi-1\n",
        "          yi = yi-1\n",
        "          linea.append([xi,yi])\n",
        "          p=p+(2*dx)-(2*dy)\n",
        "  print (linea)"
      ],
      "execution_count": null,
      "outputs": []
    },
    {
      "cell_type": "markdown",
      "metadata": {
        "id": "GAKYSMLU3Z7Y"
      },
      "source": [
        "# Función de circunferencia"
      ]
    },
    {
      "cell_type": "code",
      "metadata": {
        "id": "XEngSaEv0IXt"
      },
      "source": [
        "def calc_circulo(xc,yc,r,circunferencia):\n",
        "  p=(5/4)-r\n",
        "  xi=xc\n",
        "  yi=yc+r\n",
        "  a=np.zeros(((r-2)*8,2))\n",
        "  i=0\n",
        "  #calcular los pixeles del primer octante\n",
        "  while (xi-xc) <= (yi-yc) :\n",
        "    if p<0 :\n",
        "      a[i][0]=xi\n",
        "      a[i][1]=yi\n",
        "      circunferencia.append([xi,yi])\n",
        "      p=p+(2*xi)+3\n",
        "      xi = xi+1   \n",
        "    else:\n",
        "      a[i][0]=xi\n",
        "      a[i][1]=yi\n",
        "      circunferencia.append([xi,yi])\n",
        "      p=p+(2*xi)-(2*yi)+5\n",
        "      xi = xi+1\n",
        "      yi = yi-1    \n",
        "    i = i+1\n",
        "\n",
        "  #replicarlo en el octante adyacente\n",
        "  i2=0\n",
        "  while i < (r-2)*2:\n",
        "    a[i][0]=int(a[i2][1])\n",
        "    a[i][1]=int(a[i2][0])\n",
        "    circunferencia.append([int(a[i][0]),int(a[i][1])])\n",
        "    i=i+1\n",
        "    i2=i2+1\n",
        "\n",
        "  #Este codigo es para los demas cuadrantes\n",
        "  i2=0\n",
        "  while i < (r-2)*4:\n",
        "    a[i][0]=int(xc-(a[i2][0]-xc))\n",
        "    a[i][1]=int(a[i2][1])\n",
        "    circunferencia.append([int(a[i][0]),int(a[i][1])])\n",
        "    i=i+1\n",
        "    i2=i2+1\n",
        "\n",
        "  i2=0\n",
        "  while i < (r-2)*8:\n",
        "    a[i][0]=int(a[i2][0])\n",
        "    a[i][1]=int(yc-(a[i2][1]-yc))\n",
        "    circunferencia.append([int(a[i][0]),int(a[i][1])])\n",
        "    i=i+1\n",
        "    i2=i2+1\n",
        "\n",
        "  print(circunferencia)"
      ],
      "execution_count": null,
      "outputs": []
    },
    {
      "cell_type": "markdown",
      "metadata": {
        "id": "joJzmmlP38sE"
      },
      "source": [
        "# Función traslación"
      ]
    },
    {
      "cell_type": "code",
      "metadata": {
        "id": "inpf8hPA4BVz"
      },
      "source": [
        "def traslacion(lista,xt,yt):\n",
        "  lista2=[]\n",
        "  for c in lista:\n",
        "    lista2.append([(c[0]+xt),(c[1]+yt)])\n",
        "  return lista2"
      ],
      "execution_count": null,
      "outputs": []
    },
    {
      "cell_type": "code",
      "metadata": {
        "id": "r0sKCR1fPhWU"
      },
      "source": [
        "lista=([1,1],[2,2],[3,3])\n",
        "lista2=traslacion(lista,2,2)\n",
        "print (lista2)"
      ],
      "execution_count": null,
      "outputs": []
    },
    {
      "cell_type": "markdown",
      "metadata": {
        "id": "lMGvLKlS0kBe"
      },
      "source": [
        "# Función de escalamiento"
      ]
    },
    {
      "cell_type": "code",
      "metadata": {
        "id": "x_WYSmRC1li8"
      },
      "source": [
        "def escalmiento(x,y,xc,yc,xs,ys): #x,y son el punto a escalar; xc,yc son el punto de referencia; xs,ys son el vector de escalado\n",
        "  lista =[]\n",
        "  lista.append(xc+((x-xc)*xs))\n",
        "  lista.append(yc+((y-yc)*ys))\n",
        "  return lista"
      ],
      "execution_count": null,
      "outputs": []
    },
    {
      "cell_type": "code",
      "metadata": {
        "id": "wAFTbiSE7OYR"
      },
      "source": [
        "xi=1\n",
        "yi=1\n",
        "xf=10\n",
        "yf=10\n",
        "linea=[]\n",
        "linea2=[]\n",
        "calc_linea(xi,yi,xf,yf,linea2)\n",
        "calc_linea(escalmiento(xi,yi,xi,yi,2,2)[0],escalmiento(xi,yi,xi,yi,2,2)[1],escalmiento(xf,yf,xi,yi,2,2)[0],escalmiento(xf,yf,xi,yi,2,2)[1],linea)\n",
        "imprimir(linea2)\n",
        "imprimir(linea)"
      ],
      "execution_count": null,
      "outputs": []
    },
    {
      "cell_type": "markdown",
      "metadata": {
        "id": "7oH8_f-fGya9"
      },
      "source": [
        "# Función de rotación"
      ]
    },
    {
      "cell_type": "code",
      "metadata": {
        "id": "3TPv9LIlG2kH"
      },
      "source": [
        "def rotacion(lista,xr,yr,theta):\n",
        "  lista2=[]\n",
        "  for c in lista:\n",
        "    x=c[0]\n",
        "    y=c[1]\n",
        "    lista2.append([round((xr+((x-xr)*math.cos(theta)))-((y-yr)*math.sin(theta))),round((yr+((y-yr)*math.cos(theta)))-((x-xr)*math.sin(theta)))])\n",
        "  return lista2"
      ],
      "execution_count": null,
      "outputs": []
    },
    {
      "cell_type": "code",
      "metadata": {
        "id": "qSPlAKu6JguS"
      },
      "source": [
        "lista=([11,11],[11,12],[11,13],[11,14],[11,15])\n",
        "lista2=rotacion(lista,11,11,3.14159)\n",
        "print (lista2)\n",
        "imprimir (lista)\n",
        "imprimir (lista2)"
      ],
      "execution_count": null,
      "outputs": []
    }
  ]
}