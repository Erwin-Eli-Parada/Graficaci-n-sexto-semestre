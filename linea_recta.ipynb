{
  "nbformat": 4,
  "nbformat_minor": 0,
  "metadata": {
    "colab": {
      "name": "linea_recta",
      "provenance": [],
      "collapsed_sections": [],
      "authorship_tag": "ABX9TyMHmLzucH3UoJLi+Kr1xHRM",
      "include_colab_link": true
    },
    "kernelspec": {
      "name": "python3",
      "display_name": "Python 3"
    },
    "language_info": {
      "name": "python"
    }
  },
  "cells": [
    {
      "cell_type": "markdown",
      "metadata": {
        "id": "view-in-github",
        "colab_type": "text"
      },
      "source": [
        "<a href=\"https://colab.research.google.com/github/Erwin-Eli-Parada/Graficaci-n-sexto-semestre/blob/main/linea_recta.ipynb\" target=\"_parent\"><img src=\"https://colab.research.google.com/assets/colab-badge.svg\" alt=\"Open In Colab\"/></a>"
      ]
    },
    {
      "cell_type": "markdown",
      "metadata": {
        "id": "EH0aJR2Yyoeh"
      },
      "source": [
        "Codigo para el calculo de los pixeles por los que pasa una linea recta"
      ]
    },
    {
      "cell_type": "code",
      "metadata": {
        "id": "R7pjP0eyLBCa",
        "colab": {
          "base_uri": "https://localhost:8080/"
        },
        "outputId": "03ea251b-3d91-44db-ed44-3bb8915d0cfd"
      },
      "source": [
        "import numpy as np\n",
        "from math import floor\n",
        "from pylab import *\n",
        "xinicial =int (input(\"x incial\"))\n",
        "yinicial =int (input(\"y incial\"))\n",
        "xfinal =int (input(\"x final\"))\n",
        "yfinal =int (input(\"y final\"))\n",
        "xi=xinicial \n",
        "yi=yinicial \n",
        "if xinicial > xfinal : xi=xfinal\n",
        "if yinicial > yfinal : yi=yfinal\n",
        "dx = abs(xfinal-xinicial)\n",
        "dy = abs(yfinal-yinicial)\n",
        "if dx > dy:\n",
        "  a=np.zeros((xfinal-xinicial+1,2))\n",
        "  a[0][0]=xi\n",
        "  a[0][1]=yi\n",
        "  for i in range(1,(dx+1)):\n",
        "    a[i][0]=xi+1\n",
        "    a[i][1]=yi+((yfinal-yinicial)/(xfinal-xinicial))\n",
        "    yi=a[i][1]\n",
        "    xi=a[i][0]\n",
        "    a[i][1]=floor (a[i][1])\n",
        "else:\n",
        "  a=np.zeros((dy+1,2))\n",
        "  a[0][0]=xi\n",
        "  a[0][1]=yi\n",
        "  for i in range(1,(dy+1)):\n",
        "    a[i][0]=xi+((xfinal-xinicial)/(yfinal-yinicial)) \n",
        "    a[i][1]=yi+1\n",
        "    yi=a[i][1]\n",
        "    xi=a[i][0]\n",
        "    a[i][0]=floor (a[i][0])\n",
        "print (a)"
      ],
      "execution_count": null,
      "outputs": [
        {
          "output_type": "stream",
          "text": [
            "x incial0\n",
            "y incial0\n",
            "x final10\n",
            "y final10\n",
            "[[ 0.  0.]\n",
            " [ 1.  1.]\n",
            " [ 2.  2.]\n",
            " [ 3.  3.]\n",
            " [ 4.  4.]\n",
            " [ 5.  5.]\n",
            " [ 6.  6.]\n",
            " [ 7.  7.]\n",
            " [ 8.  8.]\n",
            " [ 9.  9.]\n",
            " [10. 10.]]\n"
          ],
          "name": "stdout"
        }
      ]
    },
    {
      "cell_type": "code",
      "metadata": {
        "id": "kIQYl8cK3bFR",
        "colab": {
          "base_uri": "https://localhost:8080/",
          "height": 282
        },
        "outputId": "2c9d2f6f-1580-4c32-ac1d-ea1b127a2351"
      },
      "source": [
        "plot(a[:,0],a[:,1], 'o')\n",
        "show"
      ],
      "execution_count": null,
      "outputs": [
        {
          "output_type": "execute_result",
          "data": {
            "text/plain": [
              "<function matplotlib.pyplot.show>"
            ]
          },
          "metadata": {
            "tags": []
          },
          "execution_count": 2
        },
        {
          "output_type": "display_data",
          "data": {
            "image/png": "[encoded data removed]",
            "text/plain": [
              "<Figure size 432x288 with 1 Axes>"
            ]
          },
          "metadata": {
            "tags": [],
            "needs_background": "light"
          }
        }
      ]
    },
    {
      "cell_type": "markdown",
      "metadata": {
        "id": "uv8qpHRNej04"
      },
      "source": [
        "Codigo para la traslación de puntos"
      ]
    },
    {
      "cell_type": "code",
      "metadata": {
        "id": "CUz9u_zGepnY"
      },
      "source": [
        "def traslacion(matriz) :\n",
        "  xvector =int (input(\"x del vector de traslacion\"))\n",
        "  yvector =int (input(\"y del vector de traslacion\"))\n",
        "  for i in range(0,(dx+1)):\n",
        "    matriz[i][0]=matriz[i][0]+xvector\n",
        "    matriz[i][1]=matriz[i][1]+yvector\n",
        "  "
      ],
      "execution_count": null,
      "outputs": []
    },
    {
      "cell_type": "code",
      "metadata": {
        "colab": {
          "base_uri": "https://localhost:8080/"
        },
        "id": "kAk31Kz8mGbc",
        "outputId": "dec80acf-ac9a-47a3-e0d7-90f4924c758d"
      },
      "source": [
        "traslacion(a)\n",
        "print(a)"
      ],
      "execution_count": null,
      "outputs": [
        {
          "output_type": "stream",
          "text": [
            "x del vector de traslacion3\n",
            "y del vector de traslacion3\n",
            "[[ 3.  3.]\n",
            " [ 4.  4.]\n",
            " [ 5.  5.]\n",
            " [ 6.  6.]\n",
            " [ 7.  7.]\n",
            " [ 8.  8.]\n",
            " [ 9.  9.]\n",
            " [10. 10.]\n",
            " [11. 11.]\n",
            " [12. 12.]\n",
            " [13. 13.]]\n"
          ],
          "name": "stdout"
        }
      ]
    }
  ]
}