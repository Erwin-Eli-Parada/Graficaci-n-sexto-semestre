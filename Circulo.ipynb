{
  "nbformat": 4,
  "nbformat_minor": 0,
  "metadata": {
    "colab": {
      "name": "Circulo",
      "provenance": [],
      "collapsed_sections": [],
      "authorship_tag": "ABX9TyPgVCYXMHUANJ6+fdMhg8BU",
      "include_colab_link": true
    },
    "kernelspec": {
      "name": "python3",
      "display_name": "Python 3"
    },
    "language_info": {
      "name": "python"
    }
  },
  "cells": [
    {
      "cell_type": "markdown",
      "metadata": {
        "id": "view-in-github",
        "colab_type": "text"
      },
      "source": [
        "<a href=\"https://colab.research.google.com/github/Erwin-Eli-Parada/Graficaci-n-sexto-semestre/blob/main/Circulo.ipynb\" target=\"_parent\"><img src=\"https://colab.research.google.com/assets/colab-badge.svg\" alt=\"Open In Colab\"/></a>"
      ]
    },
    {
      "cell_type": "code",
      "metadata": {
        "colab": {
          "base_uri": "https://localhost:8080/"
        },
        "id": "oqOG1mw9gipf",
        "outputId": "21c6140b-5b8f-4317-ab20-196c8dc171a0"
      },
      "source": [
        "import numpy as np\n",
        "from math import floor\n",
        "from pylab import *\n",
        "xc=int (input(\"x del centro\"))\n",
        "yc=int (input(\"y del centro\"))\n",
        "r=int (input(\"radio\"))\n",
        "p=(5/4)-r\n",
        "a=np.zeros(((r-2)*8,2))\n",
        "xi=xc\n",
        "yi=yc+r"
      ],
      "execution_count": null,
      "outputs": [
        {
          "output_type": "stream",
          "text": [
            "x del centro0\n",
            "y del centro0\n",
            "radio5\n"
          ],
          "name": "stdout"
        }
      ]
    },
    {
      "cell_type": "code",
      "metadata": {
        "id": "PF56pUiJiGR8"
      },
      "source": [
        "i=0\n",
        "while (xi-xc) <= (yi-yc) :\n",
        "  if p<0 :\n",
        "    a[i][0]=xi\n",
        "    a[i][1]=yi\n",
        "    p=p+(2*xi)+2\n",
        "    xi = xi+1   \n",
        "  else:\n",
        "    a[i][0]=xi\n",
        "    a[i][1]=yi\n",
        "    p=p+(2*xi)+2-(2*yi)-2\n",
        "    xi = xi+1\n",
        "    yi = yi-1\n",
        "    \n",
        "  i = i+1\n"
      ],
      "execution_count": null,
      "outputs": []
    },
    {
      "cell_type": "code",
      "metadata": {
        "colab": {
          "base_uri": "https://localhost:8080/"
        },
        "id": "-yTw1RGgv_x7",
        "outputId": "96f9f9aa-1b14-4df2-ea34-0fc6b195d744"
      },
      "source": [
        "i2=0\n",
        "while i < (r-2)*2:\n",
        "  a[i][0]=a[i2][1]\n",
        "  a[i][1]=a[i2][0]\n",
        "  i=i+1\n",
        "  i2=i2+1\n",
        "\n",
        "i2=0\n",
        "while i < (r-2)*4:\n",
        "  a[i][0]=xc-(a[i2][0]-xc)\n",
        "  a[i][1]=a[i2][1]\n",
        "  i=i+1\n",
        "  i2=i2+1\n",
        "\n",
        "i2=0\n",
        "while i < (r-2)*8:\n",
        "  a[i][0]=a[i2][0]\n",
        "  a[i][1]=yc-(a[i2][1]-yc)\n",
        "  i=i+1\n",
        "  i2=i2+1 \n",
        "\n",
        "print(a)\n"
      ],
      "execution_count": null,
      "outputs": [
        {
          "output_type": "stream",
          "text": [
            "[[ 0.  5.]\n",
            " [ 1.  5.]\n",
            " [ 2.  5.]\n",
            " [ 3.  4.]\n",
            " [ 4.  4.]\n",
            " [ 5.  0.]\n",
            " [ 0.  5.]\n",
            " [-1.  5.]\n",
            " [-2.  5.]\n",
            " [-3.  4.]\n",
            " [-4.  4.]\n",
            " [-5.  0.]\n",
            " [ 0. -5.]\n",
            " [ 1. -5.]\n",
            " [ 2. -5.]\n",
            " [ 3. -4.]\n",
            " [ 4. -4.]\n",
            " [ 5.  0.]\n",
            " [ 0. -5.]\n",
            " [-1. -5.]\n",
            " [-2. -5.]\n",
            " [-3. -4.]\n",
            " [-4. -4.]\n",
            " [-5.  0.]]\n"
          ],
          "name": "stdout"
        }
      ]
    },
    {
      "cell_type": "code",
      "metadata": {
        "colab": {
          "base_uri": "https://localhost:8080/",
          "height": 282
        },
        "id": "wFki5e_borMl",
        "outputId": "4c850bca-a06f-4128-aaae-d3f2c592b859"
      },
      "source": [
        "\n",
        "plot(a[:,0],a[:,1], 'o')\n",
        "show"
      ],
      "execution_count": null,
      "outputs": [
        {
          "output_type": "execute_result",
          "data": {
            "text/plain": [
              "<function matplotlib.pyplot.show>"
            ]
          },
          "metadata": {
            "tags": []
          },
          "execution_count": 4
        },
        {
          "output_type": "display_data",
          "data": {
            "image/png": "[encoded data removed]",
            "text/plain": [
              "<Figure size 432x288 with 1 Axes>"
            ]
          },
          "metadata": {
            "tags": [],
            "needs_background": "light"
          }
        }
      ]
    }
  ]
}