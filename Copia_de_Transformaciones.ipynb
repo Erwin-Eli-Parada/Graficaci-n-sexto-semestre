{
  "nbformat": 4,
  "nbformat_minor": 0,
  "metadata": {
    "colab": {
      "name": "Copia de Transformaciones.ipynb",
      "provenance": [],
      "include_colab_link": true
    },
    "kernelspec": {
      "name": "python3",
      "display_name": "Python 3"
    },
    "language_info": {
      "name": "python"
    }
  },
  "cells": [
    {
      "cell_type": "markdown",
      "metadata": {
        "id": "view-in-github",
        "colab_type": "text"
      },
      "source": [
        "<a href=\"https://colab.research.google.com/github/Erwin-Eli-Parada/Graficaci-n-sexto-semestre/blob/main/Copia_de_Transformaciones.ipynb\" target=\"_parent\"><img src=\"https://colab.research.google.com/assets/colab-badge.svg\" alt=\"Open In Colab\"/></a>"
      ]
    },
    {
      "cell_type": "markdown",
      "metadata": {
        "id": "MpeviGkLdkBf"
      },
      "source": [
        "#1a. Parte - Polígono\n",
        "Dado un número entero N ingresado por el usuario, escriba una función que dibuje un polígono relleno de N lados centrado en el origen."
      ]
    },
    {
      "cell_type": "code",
      "metadata": {
        "id": "JOaHNuvSdZZV"
      },
      "source": [
        "def poligono(n,r,figura,vertices): #n=numero de lados, r=radio, figura = arreglo para guardar la figura\n",
        "  contorno=[]\n",
        "  for i in range(n): #creación del contorno\n",
        "    if i>=n-1:\n",
        "      calc_linea(vertices[i][0],vertices[i][1],vertices[0][0],vertices[0][1],contorno)\n",
        "    else:\n",
        "      calc_linea(vertices[i][0],vertices[i][1],vertices[i+1][0],vertices[i+1][1],contorno)\n",
        "  for j in range (len(vertices)): #creación de la figura\n",
        "    for i in range(len(contorno)):\n",
        "      calc_linea(vertices[j][0],vertices[j][1],contorno[i][0],contorno[i][1],figura)\n",
        "  "
      ],
      "execution_count": null,
      "outputs": []
    },
    {
      "cell_type": "markdown",
      "metadata": {
        "id": "4p6D-li1gxda"
      },
      "source": [
        "#2a. Parte - Traslación\n",
        "Escribe una función que reciba una coordenada (x,y) y un vector de traslación *T* y retorne la coordenada trasladada (x',y')."
      ]
    },
    {
      "cell_type": "code",
      "metadata": {
        "id": "UPJnom-yhkZF"
      },
      "source": [
        "def traslacion(x,y,xt,yt):\n",
        "  vectorR=[]\n",
        "  vectorR=[(x+xt),(y+yt)]\n",
        "  return vectorR"
      ],
      "execution_count": null,
      "outputs": []
    },
    {
      "cell_type": "markdown",
      "metadata": {
        "id": "9O7Nzi7dho9U"
      },
      "source": [
        "#3a. Parte - Escalado\n",
        "Escribe una función que reciba una coordenada (x,y) y un vector de escalado *S* y retorne la coordenada escalda (x',y') con respecto a un punto arbitrario."
      ]
    },
    {
      "cell_type": "code",
      "metadata": {
        "id": "wjIzteSliDPG"
      },
      "source": [
        "def escalmiento(x,y,xc,yc,xs,ys): #x,y son el punto a escalar; xc,yc son el punto de referencia; xs,ys son el vector de escalado\n",
        "  vectorR =[]\n",
        "  vectorR=[round(xc+((x-xc)*xs)),round(yc+((y-yc)*ys))]\n",
        "  return vectorR"
      ],
      "execution_count": null,
      "outputs": []
    },
    {
      "cell_type": "markdown",
      "metadata": {
        "id": "Z_I8u5cyJbfp"
      },
      "source": [
        "#4a. Parte - Rotación\n",
        "Escribe una función que reciba una coordenada (x,y) y un ángulo de rotación, y retorne la coordenada rotada (x',y') con referencia a un punto arbitrario."
      ]
    },
    {
      "cell_type": "code",
      "metadata": {
        "id": "3sbWcWVZJuRd"
      },
      "source": [
        "def rotacion(x,y,xr,yr,theta):\n",
        "  theta = theta*math.pi/180 \n",
        "  vectorR = []\n",
        "  vectorR=[round((xr+((x-xr)*math.cos(theta)))-((y-yr)*math.sin(theta))),round((yr+((y-yr)*math.cos(theta)))+((x-xr)*math.sin(theta)))]\n",
        "  return vectorR"
      ],
      "execution_count": null,
      "outputs": []
    },
    {
      "cell_type": "markdown",
      "metadata": {
        "id": "0nC5YLN0ukUy"
      },
      "source": [
        "# Graficación"
      ]
    },
    {
      "cell_type": "code",
      "metadata": {
        "id": "vSVZSxPtuqlr"
      },
      "source": [
        "\n",
        "def imprimir(lista):\n",
        "  N = 50 #Número de filas y columnas de la matriz (cuadrada)\n",
        "  matriz= np.zeros((N,N))#creamos la matriz con ceros en todas las celdas\n",
        "  for c in lista:\n",
        "    if c[0]>=0 and c[1]>=0:\n",
        "      matriz[c[0],c[1]] = 1\n",
        "\n",
        "  plt.imshow(matriz)\n",
        "  plt.colorbar()\n",
        "  plt.show()"
      ],
      "execution_count": null,
      "outputs": []
    },
    {
      "cell_type": "markdown",
      "metadata": {
        "id": "gKdxMG6_nQEM"
      },
      "source": [
        "# Metodo de la linea"
      ]
    },
    {
      "cell_type": "code",
      "metadata": {
        "id": "QKEf_Bcuy50f"
      },
      "source": [
        "def calc_linea(xinicial,yinicial,xfinal,yfinal,linea):\n",
        "  dx = abs(xfinal-xinicial)\n",
        "  dy = abs(yfinal-yinicial)\n",
        "  xi=xinicial \n",
        "  yi=yinicial \n",
        "\n",
        "  if dx > dy:#inciamos preguntando si la diferencia en x es mayor que en Y\n",
        "    p=(2*dy)-dx\n",
        "    if linea.count([xi,yi])==0:\n",
        "      linea.append([xi,yi])\n",
        "  #debido a que hay varios casos en que el usuarios puede introducir los puntos hago una condición para cada combinación\n",
        "    if xfinal>=xinicial and yfinal>=yinicial: #si el punto final es mayor en X y en Y que el inicial, este caso se espera que sea el más común\n",
        "      for i in range (1,dx+1):\n",
        "        if p<0:\n",
        "          xi = xi+1\n",
        "          if linea.count([xi,yi])==0:\n",
        "            linea.append([xi,yi])\n",
        "          p=p+(2*dy)\n",
        "        else:\n",
        "          xi = xi+1\n",
        "          yi = yi+1\n",
        "          if linea.count([xi,yi])==0:\n",
        "            linea.append([xi,yi])\n",
        "          p=p+(2*dy)-(2*dx)\n",
        "    elif xfinal>=xinicial and yfinal<=yinicial: #si el punto final es mayor en X pero menor en Y que el inicial\n",
        "      for i in range (1,dx+1):\n",
        "        if p<0:\n",
        "          xi = xi+1\n",
        "          if linea.count([xi,yi])==0:\n",
        "            linea.append([xi,yi])\n",
        "          p=p+(2*dy)\n",
        "        else:\n",
        "          xi = xi+1\n",
        "          yi = yi-1\n",
        "          if linea.count([xi,yi])==0:\n",
        "            linea.append([xi,yi])\n",
        "          p=p+(2*dy)-(2*dx)\n",
        "    elif xfinal<=xinicial and yfinal>=yinicial:#si el punto final es menor en X pero mayor en Y que el inicial\n",
        "      for i in range (1,dx+1):\n",
        "        if p<0:\n",
        "          xi = xi-1\n",
        "          if linea.count([xi,yi])==0:\n",
        "            linea.append([xi,yi])\n",
        "          p=p+(2*dy)\n",
        "        else:\n",
        "          xi = xi-1\n",
        "          yi = yi+1\n",
        "          if linea.count([xi,yi])==0:\n",
        "            linea.append([xi,yi])\n",
        "          p=p+(2*dy)-(2*dx)        \n",
        "    else:#si el punto final es menor en X y menor en Y que el inicial\n",
        "      for i in range (1,dx+1):\n",
        "        if p<0:\n",
        "          xi = xi-1\n",
        "          if linea.count([xi,yi])==0:\n",
        "            linea.append([xi,yi])\n",
        "          p=p+(2*dy)\n",
        "        else:\n",
        "          xi = xi-1\n",
        "          yi = yi-1\n",
        "          if linea.count([xi,yi])==0:\n",
        "            linea.append([xi,yi])\n",
        "          p=p+(2*dy)-(2*dx)\n",
        "  else: #Este bloque es representa cuando la diferencia en Y sea mayor que en X\n",
        "    p=(2*dx)-dy\n",
        "    if linea.count([xi,yi])==0:\n",
        "      linea.append([xi,yi])\n",
        "    if xfinal>=xinicial and yfinal>=yinicial:#si el punto final es mayor en X y en Y que el inicial, este caso se espera que sea el más común\n",
        "      for i in range (1,dy+1):\n",
        "        if p<0:\n",
        "          yi = yi+1\n",
        "          if linea.count([xi,yi])==0:\n",
        "            linea.append([xi,yi])\n",
        "          p=p+(2*dx)\n",
        "        else:\n",
        "          xi = xi+1\n",
        "          yi = yi+1\n",
        "          if linea.count([xi,yi])==0:\n",
        "            linea.append([xi,yi])\n",
        "          p=p+(2*dx)-(2*dy)\n",
        "    elif xfinal>=xinicial and yfinal<=yinicial: #si el punto final es mayor en X pero menor en Y que el inicial\n",
        "      for i in range (1,dy+1):\n",
        "        if p<0:\n",
        "          yi = yi-1\n",
        "          if linea.count([xi,yi])==0:\n",
        "            linea.append([xi,yi])\n",
        "          p=p+(2*dx)\n",
        "        else:\n",
        "          xi = xi+1\n",
        "          yi = yi-1\n",
        "          if linea.count([xi,yi])==0:\n",
        "            linea.append([xi,yi])\n",
        "          p=p+(2*dx)-(2*dy)\n",
        "    elif xfinal<=xinicial and yfinal>=yinicial:#si el punto final es menor en X pero mayor en Y que el inicial\n",
        "      for i in range (1,dy+1):\n",
        "        if p<0:\n",
        "          yi = yi+1\n",
        "          if linea.count([xi,yi])==0:\n",
        "            linea.append([xi,yi])\n",
        "          p=p+(2*dx)\n",
        "        else:\n",
        "          xi = xi-1\n",
        "          yi = yi+1\n",
        "          if linea.count([xi,yi])==0:\n",
        "            linea.append([xi,yi])\n",
        "          p=p+(2*dx)-(2*dy)        \n",
        "    else:#si el punto final es menor en X y menor en Y que el inicial\n",
        "      for i in range (1,dy+1):\n",
        "        if p<0:\n",
        "          yi = yi-1\n",
        "          if linea.count([xi,yi])==0:\n",
        "            linea.append([xi,yi])\n",
        "          p=p+(2*dx)\n",
        "        else:\n",
        "          xi = xi-1\n",
        "          yi = yi-1\n",
        "          if linea.count([xi,yi])==0:\n",
        "            linea.append([xi,yi])\n",
        "          p=p+(2*dx)-(2*dy)"
      ],
      "execution_count": null,
      "outputs": []
    },
    {
      "cell_type": "markdown",
      "metadata": {
        "id": "7JnlgTF-KENg"
      },
      "source": [
        "#5a. Parte - Menú\n",
        "Escribe un programa que presente al usuario un menú de opciones (las partes anteriores, ademas de \"SALIR\") y que pueda ser usado por el usuario para crear y transformar poligonos a su gusto. El polígono y su resultado despues de la transformación debe ser mostrado en pantalla."
      ]
    },
    {
      "cell_type": "code",
      "metadata": {
        "id": "2IQojSsCKf8r"
      },
      "source": [
        "import math\n",
        "import numpy as np\n",
        "import matplotlib.pyplot as plt\n",
        "\n",
        "lista=[]\n",
        "vertices=[]\n",
        "i=0\n",
        "bandera=True\n",
        "\n",
        "while bandera==True:\n",
        "  try:\n",
        "    print(\"elija una opción:\")\n",
        "    print(\"1.-crear poligono\")\n",
        "    print(\"2.-trasladar poligono\")\n",
        "    print(\"3.-escalar poligono\")\n",
        "    print(\"4.-rotar poligono\")\n",
        "    print(\"5.-salir\")\n",
        "    menu=input()\n",
        "    if menu==\"1\":\n",
        "      lados=int(input(\"introduzca el numero de lados\"))\n",
        "      radio=int(input(\"introduzca el radio\"))\n",
        "      if lados>=3 and radio>=1:\n",
        "        lista.clear()\n",
        "        vertices.clear()        \n",
        "        for j in range(lados): #creación de los vertices\n",
        "          vertices.append([round(radio * math.cos(2*math.pi*j/lados)),round(radio * math.sin(2*math.pi*j/lados))])\n",
        "        poligono(lados,radio,lista,vertices)\n",
        "        imprimir(lista)\n",
        "      else:\n",
        "        print(\"datos incorrectos\")\n",
        "    elif menu==\"2\":    \n",
        "      xt=int(input(\"traslación en x\"))\n",
        "      yt=int(input(\"traslación en y\"))      \n",
        "      for c in vertices:\n",
        "        x=c[0]\n",
        "        y=c[1]\n",
        "        vertices.pop(i)\n",
        "        vertices.insert(i,traslacion(x,y,xt,yt))\n",
        "        i=i+1\n",
        "      lista.clear()  \n",
        "      poligono(lados,radio,lista,vertices)\n",
        "      i=0  \n",
        "      imprimir(lista)\n",
        "    elif menu==\"3\":\n",
        "      xc=int(input(\"coordenada x del punto de referencia\"))\n",
        "      yc=int(input(\"coordenada y del punto de referencia\"))\n",
        "      xs=float(input(\"coordenada x del vector de escalado\"))\n",
        "      ys=float(input(\"coordenada y del vector de escalado\"))\n",
        "      for c in vertices:\n",
        "        x=c[0]\n",
        "        y=c[1]\n",
        "        vertices.pop(i)\n",
        "        vertices.insert(i,escalmiento(x,y,xc,yc,xs,ys))\n",
        "        i=i+1\n",
        "      i=0\n",
        "      lista.clear()  \n",
        "      poligono(lados,radio,lista,vertices)\n",
        "      imprimir(lista)\n",
        "    elif menu==\"4\":\n",
        "      xr=int(input(\"coordenada x del punto de referencia\"))\n",
        "      yr=int(input(\"coordenada y del punto de referencia\"))\n",
        "      angulo=int(input(\"angulo de rotación\"))\n",
        "      #print(vertices)\n",
        "      for c in vertices:\n",
        "        x=c[0]\n",
        "        y=c[1]\n",
        "        vertices.pop(i)\n",
        "        vertices.insert(i,rotacion(x,y,xr,yr,angulo))\n",
        "        i=i+1\n",
        "      i=0  \n",
        "      lista.clear()\n",
        "      print(vertices)\n",
        "      poligono(lados,radio,lista,vertices)\n",
        "      imprimir(lista)\n",
        "    elif menu==\"5\":\n",
        "      bandera=False\n",
        "    else:\n",
        "      print(\"introduzca un valor valido\")\n",
        "  except Exception:\n",
        "    print(\"falta poligono\")"
      ],
      "execution_count": null,
      "outputs": []
    }
  ]
}