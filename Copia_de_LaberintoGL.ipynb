{
  "nbformat": 4,
  "nbformat_minor": 0,
  "metadata": {
    "colab": {
      "name": "Copia de LaberintoGL.ipynb",
      "provenance": [],
      "include_colab_link": true
    },
    "kernelspec": {
      "name": "python3",
      "display_name": "Python 3"
    },
    "language_info": {
      "name": "python"
    },
    "accelerator": "GPU"
  },
  "cells": [
    {
      "cell_type": "markdown",
      "metadata": {
        "id": "view-in-github",
        "colab_type": "text"
      },
      "source": [
        "<a href=\"https://colab.research.google.com/github/Erwin-Eli-Parada/Graficaci-n-sexto-semestre/blob/main/Copia_de_LaberintoGL.ipynb\" target=\"_parent\"><img src=\"https://colab.research.google.com/assets/colab-badge.svg\" alt=\"Open In Colab\"/></a>"
      ]
    },
    {
      "cell_type": "markdown",
      "metadata": {
        "id": "xhj550nd0Mg9"
      },
      "source": [
        "##**Laberinto**\n",
        "Escribe un programa en OpenGL que dibuje el siguiente laberinto, utiliza cuadrados para hacer el dibujo. Las dimenciones del laberinto son 1x1\n",
        "\n",
        "![laberinto.jpg](data:image/jpeg;base64,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)"
      ]
    },
    {
      "cell_type": "code",
      "metadata": {
        "id": "Rs7BnaQjy5m3",
        "colab": {
          "base_uri": "https://localhost:8080/"
        },
        "outputId": "823edf4a-4264-4ad4-8771-65ed3a273503"
      },
      "source": [
        "%tensorflow_version 1.x\n",
        "!pip install -q tensorflow>=2.0.0\n",
        "!pip install -q folium==0.2.1\n",
        "!pip install -q imgaug>=0.2.5\n",
        "!pip install -q gast==0.2.2\n",
        "!pip install -q lucid>=0.2.3\n",
        "!pip install -q moviepy"
      ],
      "execution_count": null,
      "outputs": [
        {
          "output_type": "stream",
          "text": [
            "TensorFlow 1.x selected.\n",
            "\u001b[31mERROR: kapre 0.3.5 has requirement tensorflow>=2.0.0, but you'll have tensorflow 1.15.2 which is incompatible.\u001b[0m\n",
            "\u001b[K     |████████████████████████████████| 71kB 5.3MB/s \n",
            "\u001b[?25h  Building wheel for folium (setup.py) ... \u001b[?25l\u001b[?25hdone\n",
            "\u001b[31mERROR: kapre 0.3.5 has requirement tensorflow>=2.0.0, but you'll have tensorflow 1.15.2 which is incompatible.\u001b[0m\n",
            "\u001b[31mERROR: albumentations 0.1.12 has requirement imgaug<0.2.7,>=0.2.5, but you'll have imgaug 0.2.9 which is incompatible.\u001b[0m\n"
          ],
          "name": "stdout"
        }
      ]
    },
    {
      "cell_type": "code",
      "metadata": {
        "colab": {
          "base_uri": "https://localhost:8080/"
        },
        "id": "PbGBdx37MbsD",
        "outputId": "7b4348d8-c6da-4828-d054-01109a36629a"
      },
      "source": [
        "import numpy as np\n",
        "import json\n",
        "import moviepy.editor as mvp\n",
        "from google.colab import files\n",
        "\n",
        "import lucid.misc.io.showing as show"
      ],
      "execution_count": null,
      "outputs": [
        {
          "output_type": "stream",
          "text": [
            "Imageio: 'ffmpeg-linux64-v3.3.1' was not found on your computer; downloading it now.\n",
            "Try 1. Download from https://github.com/imageio/imageio-binaries/raw/master/ffmpeg/ffmpeg-linux64-v3.3.1 (43.8 MB)\n",
            "Downloading: 8192/45929032 bytes (0.0%)\b\b\b\b\b\b\b\b\b\b\b\b\b\b\b\b\b\b\b\b\b\b\b\b\b\b3104768/45929032 bytes (6.8%)\b\b\b\b\b\b\b\b\b\b\b\b\b\b\b\b\b\b\b\b\b\b\b\b\b\b\b\b\b6840320/45929032 bytes (14.9%)\b\b\b\b\b\b\b\b\b\b\b\b\b\b\b\b\b\b\b\b\b\b\b\b\b\b\b\b\b\b10674176/45929032 bytes (23.2%)\b\b\b\b\b\b\b\b\b\b\b\b\b\b\b\b\b\b\b\b\b\b\b\b\b\b\b\b\b\b\b14647296/45929032 bytes (31.9%)\b\b\b\b\b\b\b\b\b\b\b\b\b\b\b\b\b\b\b\b\b\b\b\b\b\b\b\b\b\b\b18653184/45929032 bytes (40.6%)\b\b\b\b\b\b\b\b\b\b\b\b\b\b\b\b\b\b\b\b\b\b\b\b\b\b\b\b\b\b\b22544384/45929032 bytes (49.1%)\b\b\b\b\b\b\b\b\b\b\b\b\b\b\b\b\b\b\b\b\b\b\b\b\b\b\b\b\b\b\b26443776/45929032 bytes (57.6%)\b\b\b\b\b\b\b\b\b\b\b\b\b\b\b\b\b\b\b\b\b\b\b\b\b\b\b\b\b\b\b30310400/45929032 bytes (66.0%)\b\b\b\b\b\b\b\b\b\b\b\b\b\b\b\b\b\b\b\b\b\b\b\b\b\b\b\b\b\b\b33857536/45929032 bytes (73.7%)\b\b\b\b\b\b\b\b\b\b\b\b\b\b\b\b\b\b\b\b\b\b\b\b\b\b\b\b\b\b\b37879808/45929032 bytes (82.5%)\b\b\b\b\b\b\b\b\b\b\b\b\b\b\b\b\b\b\b\b\b\b\b\b\b\b\b\b\b\b\b41754624/45929032 bytes (90.9%)\b\b\b\b\b\b\b\b\b\b\b\b\b\b\b\b\b\b\b\b\b\b\b\b\b\b\b\b\b\b\b45654016/45929032 bytes (99.4%)\b\b\b\b\b\b\b\b\b\b\b\b\b\b\b\b\b\b\b\b\b\b\b\b\b\b\b\b\b\b\b45929032/45929032 bytes (100.0%)\n",
            "  Done\n",
            "File saved as /root/.imageio/ffmpeg/ffmpeg-linux64-v3.3.1.\n"
          ],
          "name": "stdout"
        }
      ]
    },
    {
      "cell_type": "code",
      "metadata": {
        "id": "fsqdKxIjMjpM"
      },
      "source": [
        "import ctypes.util\n",
        "\n",
        "from lucid.misc.gl.glcontext import create_opengl_context\n",
        "\n",
        "import OpenGL.GL as gl\n",
        "\n",
        "import os\n",
        "os.environ[\"PYOPENGL_PLATFORM\"] = \"egl\"\n",
        "\n",
        "WIDTH, HEIGHT = 400, 400\n",
        "create_opengl_context((WIDTH, HEIGHT))"
      ],
      "execution_count": null,
      "outputs": []
    },
    {
      "cell_type": "code",
      "metadata": {
        "colab": {
          "base_uri": "https://localhost:8080/",
          "height": 421
        },
        "id": "f9HFJDf1Mngr",
        "outputId": "78a9fb00-8d89-4edd-c2c5-f742e3b3a698"
      },
      "source": [
        "gl.glClear(gl.GL_COLOR_BUFFER_BIT)\n",
        "\n",
        "def cuadrado(x,y):\n",
        "  gl.glBegin(gl.GL_QUADS)\n",
        "  gl.glVertex2f(x+.05,y+.05)\n",
        "  gl.glVertex2f(x-.05,y+.05)\n",
        "  gl.glVertex2f(x-.05,y-.05)\n",
        "  gl.glVertex2f(x+.05,y-.05)\n",
        "  gl.glEnd()\n",
        "\n",
        "def dibujar(x,y,veces,orientacion):\n",
        "  for i in range(veces):\n",
        "    if orientacion==\"derecha\":\n",
        "      cuadrado(x,y)\n",
        "      x=x+0.1\n",
        "    elif orientacion==\"izquierda\":\n",
        "      cuadrado(x,y)\n",
        "      x=x-0.1\n",
        "    elif orientacion==\"arriba\":\n",
        "      cuadrado(x,y)\n",
        "      y=y+0.1\n",
        "    elif orientacion==\"abajo\":\n",
        "      cuadrado(x,y)\n",
        "      y=y-0.10\n",
        "\n",
        "dibujar(-0.75,.95,2,\"abajo\")\n",
        "dibujar(-0.85,.85,3,\"abajo\")\n",
        "dibujar(-0.85,.65,3,\"derecha\")\n",
        "dibujar(-0.55,.65,3,\"arriba\")\n",
        "dibujar(-0.55,.85,3,\"derecha\")\n",
        "dibujar(-0.35,.85,3,\"abajo\")\n",
        "dibujar(-0.35,.65,4,\"derecha\")\n",
        "dibujar(-0.05,.65,3,\"abajo\")\n",
        "dibujar(-0.15,.65,3,\"arriba\")\n",
        "dibujar(-0.15,.85,4,\"derecha\")\n",
        "dibujar(0.15,.85,5,\"abajo\")\n",
        "dibujar(0.15,.45,3,\"derecha\")\n",
        "dibujar(0.35,.45,5,\"arriba\")\n",
        "dibujar(0.35,.85,5,\"derecha\")\n",
        "dibujar(0.75,.85,3,\"abajo\")\n",
        "dibujar(0.75,.65,3,\"izquierda\")\n",
        "dibujar(0.55,.65,5,\"abajo\")\n",
        "dibujar(0.55,.45,3,\"derecha\")\n",
        "dibujar(0.75,.45,8,\"abajo\")\n",
        "dibujar(0.75,.05,7,\"izquierda\")\n",
        "dibujar(0.15,.05,2,\"abajo\")\n",
        "dibujar(0.15,-.05,4,\"izquierda\")\n",
        "dibujar(-0.05,-.05,2,\"arriba\")\n",
        "dibujar(0.35,.05,3,\"arriba\")\n",
        "dibujar(0.35,.25,7,\"izquierda\")\n",
        "dibujar(-0.25,.15,4,\"arriba\")\n",
        "dibujar(-0.25,.15,3,\"izquierda\")\n",
        "dibujar(-0.45,.25,3,\"izquierda\")\n",
        "dibujar(-0.25,.45,7,\"izquierda\")\n",
        "dibujar(-0.85,.45,8,\"abajo\")\n",
        "dibujar(-0.85,.05,3,\"derecha\")\n",
        "dibujar(-0.85,-.25,3,\"derecha\")\n",
        "dibujar(-0.65,-.25,3,\"abajo\")\n",
        "dibujar(-0.65,-.45,3,\"izquierda\")\n",
        "dibujar(-0.85,-.45,5,\"abajo\")\n",
        "dibujar(-0.65,-.05,4,\"derecha\")\n",
        "dibujar(-0.35,-.05,3,\"abajo\")\n",
        "dibujar(-0.45,-.25,3,\"abajo\")\n",
        "dibujar(-0.45,-.45,4,\"derecha\")\n",
        "dibujar(-0.15,-.45,3,\"arriba\")\n",
        "dibujar(-0.15,-.25,3,\"derecha\")\n",
        "dibujar(0.05,-.25,5,\"abajo\")\n",
        "dibujar(.15,-.65,9,\"izquierda\")\n",
        "dibujar(-0.65,-.65,3,\"abajo\")\n",
        "dibujar(-0.65,-.85,15,\"derecha\")\n",
        "dibujar(0.35,-.85,5,\"arriba\")\n",
        "dibujar(0.25,-.45,3,\"arriba\")\n",
        "dibujar(0.35,-.25,2,\"arriba\")\n",
        "dibujar(0.35,-.15,3,\"derecha\")\n",
        "dibujar(0.55,-.15,4,\"abajo\")\n",
        "dibujar(0.55,-.45,4,\"derecha\")\n",
        "dibujar(0.75,-.45,3,\"abajo\")\n",
        "dibujar(0.75,-.65,3,\"izquierda\")\n",
        "dibujar(0.95,0.95,20,\"abajo\")\n",
        "\n",
        "# Read the result\n",
        "img_buf = gl.glReadPixelsub(0, 0, WIDTH, HEIGHT, gl.GL_RGB, gl.GL_UNSIGNED_BYTE)\n",
        "img = np.frombuffer(img_buf, np.uint8).reshape(HEIGHT, WIDTH, 3)[::-1]\n",
        "show.image(img/255.0)"
      ],
      "execution_count": null,
      "outputs": [
        {
          "output_type": "display_data",
          "data": {
            "text/html": [
              "<img src=\"data:image/PNG;base64,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\" style=\"image-rendering: pixelated; image-rendering: crisp-edges;\">"
            ],
            "text/plain": [
              "<IPython.core.display.HTML object>"
            ]
          },
          "metadata": {
            "tags": []
          }
        }
      ]
    }
  ]
}